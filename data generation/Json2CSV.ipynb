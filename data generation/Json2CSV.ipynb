{
 "cells": [
  {
   "cell_type": "code",
   "execution_count": 1,
   "metadata": {},
   "outputs": [],
   "source": [
    "import json\n",
    "import numpy as np\n",
    "import csv"
   ]
  },
  {
   "cell_type": "code",
   "execution_count": 2,
   "metadata": {},
   "outputs": [],
   "source": [
    "img_path = '../LINEMOD/000001/rgb/'\n",
    "gt_bbox_path = '../LINEMOD/000001/scene_gt_info.json'\n",
    "gt_pose_path = '../LINEMOD/000001/scene_gt.json'\n",
    "train_idx_path = '../LINEMOD/training_index.json'\n",
    "obj = 'ape'\n",
    "trans_scale = 0.001\n",
    "\n",
    "with open(train_idx_path) as idx_file:\n",
    "    idx = json.load(idx_file)\n",
    "\n",
    "with open(gt_bbox_path) as gt_bbox_file:\n",
    "    gt_bbox_data = json.load(gt_bbox_file)\n",
    "    \n",
    "with open(gt_pose_path) as gt_pose_file:\n",
    "    gt_pose_data = json.load(gt_pose_file)\n",
    "    \n",
    "with open('val_data_'+obj+'.csv', 'w', newline='') as val_file:   \n",
    "    val_writer = csv.writer(val_file, delimiter=',', quotechar='|', quoting=csv.QUOTE_MINIMAL)\n",
    "    with open('train_data_'+obj+'.csv', 'w', newline='') as train_file:   \n",
    "        train_writer = csv.writer(train_file, delimiter=',', quotechar='|', quoting=csv.QUOTE_MINIMAL)\n",
    "        for d in gt_bbox_data:\n",
    "            [P1x, P1y,w,h] = gt_bbox_data[d][0]['bbox_obj']\n",
    "            [R1,R2,R3,R4,R5,R6,R7,R8,R9] = gt_pose_data[d][0]['cam_R_m2c']\n",
    "            [T1,T2,T3] = np.array(gt_pose_data[d][0]['cam_t_m2c'])*trans_scale\n",
    "            if int(d) in idx[obj]:\n",
    "                train_writer.writerow([img_path + \"{:06d}\".format(int(d)) + '.png', P1x, P1y, P1x+w, P1y+h, obj, \n",
    "                                      R1,R2,R3,R4,R5,R6,R7,R8,R9,T1,T2,T3])\n",
    "            else:\n",
    "                val_writer.writerow([img_path + \"{:06d}\".format(int(d)) + '.png', P1x, P1y, P1x+w, P1y+h, obj, \n",
    "                                     R1,R2,R3,R4,R5,R6,R7,R8,R9,T1,T2,T3])"
   ]
  },
  {
   "cell_type": "code",
   "execution_count": 3,
   "metadata": {},
   "outputs": [
    {
     "name": "stdout",
     "output_type": "stream",
     "text": [
      "000001\n"
     ]
    }
   ],
   "source": [
    "print(\"{:06d}\".format(1))"
   ]
  },
  {
   "cell_type": "code",
   "execution_count": 4,
   "metadata": {},
   "outputs": [
    {
     "data": {
      "text/plain": [
       "array([-0.05654416, -0.13257247,  0.71444239])"
      ]
     },
     "execution_count": 4,
     "metadata": {},
     "output_type": "execute_result"
    }
   ],
   "source": [
    "np.array(gt_pose_data[d][0]['cam_t_m2c'])*trans_scale"
   ]
  },
  {
   "cell_type": "code",
   "execution_count": null,
   "metadata": {},
   "outputs": [],
   "source": []
  }
 ],
 "metadata": {
  "kernelspec": {
   "display_name": "Python 3",
   "language": "python",
   "name": "python3"
  },
  "language_info": {
   "codemirror_mode": {
    "name": "ipython",
    "version": 3
   },
   "file_extension": ".py",
   "mimetype": "text/x-python",
   "name": "python",
   "nbconvert_exporter": "python",
   "pygments_lexer": "ipython3",
   "version": "3.7.6"
  }
 },
 "nbformat": 4,
 "nbformat_minor": 4
}
