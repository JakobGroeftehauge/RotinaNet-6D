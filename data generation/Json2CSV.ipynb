{
 "cells": [
  {
   "cell_type": "code",
   "execution_count": 28,
   "metadata": {},
   "outputs": [],
   "source": [
    "import json\n",
    "import numpy as np\n",
    "import csv"
   ]
  },
  {
   "cell_type": "code",
   "execution_count": 32,
   "metadata": {},
   "outputs": [
    {
     "name": "stdout",
     "output_type": "stream",
     "text": [
      "[0, 8, 14, 18, 19, 30, 34, 39, 43, 44, 46, 50, 52, 55, 58, 63, 64, 68, 73, 74, 77, 84, 91, 135, 142, 156, 162, 164, 190, 192, 217, 221, 226, 227, 228, 233, 237, 241, 254, 255, 287, 301, 307, 311, 315, 324, 326, 333, 334, 335, 340, 344, 347, 355, 358, 366, 372, 375, 379, 382, 384, 387, 390, 392, 396, 401, 404, 407, 409, 414, 416, 418, 423, 431, 432, 435, 439, 445, 449, 453, 455, 458, 465, 484, 509, 533, 538, 540, 544, 550, 565, 595, 598, 609, 614, 619, 623, 663, 666, 694, 696, 711, 732, 734, 737, 738, 741, 744, 746, 749, 757, 762, 773, 780, 781, 783, 790, 799, 807, 809, 811, 814, 815, 817, 834, 846, 848, 852, 901, 931, 958, 962, 966, 970, 971, 975, 984, 993, 999, 1000, 1002, 1010, 1023, 1028, 1031, 1038, 1042, 1047, 1049, 1051, 1061, 1066, 1076, 1083, 1089, 1145, 1166, 1204, 1222]\n"
     ]
    }
   ],
   "source": [
    "img_path = '../LINEMOD/000001/rgb/'\n",
    "gt_path = '../LINEMOD/000001/scene_gt_info.json'\n",
    "train_idx_path = '../LINEMOD/training_index.json'\n",
    "\n",
    "with open(train_idx_path) as idx_file:\n",
    "    idx = json.load(idx_file)\n",
    "print(idx['ape'])\n",
    "\n",
    "with open(path) as json_file:\n",
    "    data = json.load(json_file)\n",
    "    \n",
    "with open('val_data.csv', 'w', newline='') as val_file:   \n",
    "    val_writer = csv.writer(val_file, delimiter=',', quotechar='|', quoting=csv.QUOTE_MINIMAL)\n",
    "    with open('train_data.csv', 'w', newline='') as train_file:   \n",
    "        train_writer = csv.writer(train_file, delimiter=',', quotechar='|', quoting=csv.QUOTE_MINIMAL)\n",
    "        for d in data:\n",
    "            [P1x, P1y,w,h] = data[d][0]['bbox_obj']\n",
    "            if int(d) in idx['ape']:\n",
    "                train_writer.writerow([img_path + \"{:06d}\".format(int(d)) + '.png', P1x, P1y, P1x+w, P1y+h, 'ape'])\n",
    "            else:\n",
    "                val_writer.writerow([img_path + \"{:06d}\".format(int(d)) + '.png', P1x, P1y, P1x+w, P1y+h, 'ape'])"
   ]
  },
  {
   "cell_type": "code",
   "execution_count": 17,
   "metadata": {},
   "outputs": [
    {
     "name": "stdout",
     "output_type": "stream",
     "text": [
      "000001\n"
     ]
    }
   ],
   "source": [
    "print(\"{:06d}\".format(1))"
   ]
  },
  {
   "cell_type": "code",
   "execution_count": null,
   "metadata": {},
   "outputs": [],
   "source": []
  }
 ],
 "metadata": {
  "kernelspec": {
   "display_name": "Python 3",
   "language": "python",
   "name": "python3"
  },
  "language_info": {
   "codemirror_mode": {
    "name": "ipython",
    "version": 3
   },
   "file_extension": ".py",
   "mimetype": "text/x-python",
   "name": "python",
   "nbconvert_exporter": "python",
   "pygments_lexer": "ipython3",
   "version": "3.7.6"
  }
 },
 "nbformat": 4,
 "nbformat_minor": 4
}
