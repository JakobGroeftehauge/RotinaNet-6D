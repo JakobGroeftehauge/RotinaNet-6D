{
 "cells": [
  {
   "cell_type": "markdown",
   "metadata": {},
   "source": [
    "# Convert LabelMe Annotation to CSV-dataset"
   ]
  },
  {
   "cell_type": "code",
   "execution_count": 1,
   "metadata": {},
   "outputs": [],
   "source": [
    "import json\n",
    "import cv2 as cv\n",
    "import numpy as np\n",
    "import csv\n",
    "import os\n",
    "from os import walk\n",
    "import random\n",
    "from datetime import datetime"
   ]
  },
  {
   "cell_type": "code",
   "execution_count": 10,
   "metadata": {},
   "outputs": [
    {
     "name": "stdout",
     "output_type": "stream",
     "text": [
      "40\n",
      "162\n"
     ]
    }
   ],
   "source": [
    "#path = '../../03 Data/Dataset2_onPallet/'\n",
    "path = '../../03 Data/Simple Dataset/'\n",
    "\n",
    "val_file = open('list_of_img_in_val_set_18-03.csv')\n",
    "#val_file = open('list_of_img_in_OP_val_set_14-04.csv')\n",
    "val_files = list(val_file)\n",
    "val_file.close()\n",
    "for i, img in enumerate(val_files):\n",
    "    val_files[i] = img.strip('.png\\n')+'.json'\n",
    "\n",
    "train_file = open('list_of_img_in_train_set_18-03.csv')\n",
    "#train_file = open('list_of_img_in_OP_train_set_14-04.csv')\n",
    "train_files = list(train_file)\n",
    "train_file.close()\n",
    "for i, img in enumerate(train_files):\n",
    "    train_files[i] = img.strip('.png\\n')+'.json'\n",
    "\n",
    "print(len(val_files))\n",
    "print(len(train_files))\n",
    "\n",
    "now = datetime.now()\n",
    "date = now.strftime(\"%d-%m\")\n",
    "\n",
    "names = ['train_set_'+date+'.csv', 'val_set_'+date+'.csv']\n",
    "combined_files = [train_files, val_files]\n",
    "\n",
    "# create csv of train-set and val-set for feeding to the network\n",
    "for i in range(len(names)):\n",
    "    with open(names[i], 'w', newline='') as open_file:\n",
    "        writer = csv.writer(open_file, delimiter=',', quotechar='|', quoting=csv.QUOTE_MINIMAL)\n",
    "        with open('list_of_img_in_'+names[i], 'w') as f:\n",
    "            for file in combined_files[i]:\n",
    "                with open(path + file) as json_file:\n",
    "                    data = json.load(json_file)\n",
    "                    image_name = data['imagePath']\n",
    "                    f.write(\"%s\\n\" % image_name)\n",
    "                        # check if image contains annotations.\n",
    "                    if len(data['shapes']) != 0:\n",
    "                        for annotation in data['shapes']:\n",
    "                                rot_rect = cv.minAreaRect(np.float32(annotation['points']))\n",
    "                                box_points = cv.boxPoints(rot_rect)\n",
    "                                #p1 = [rot_rect[0]+]\n",
    "                                # make sure that width and height are consistent\n",
    "                                if rot_rect[-2][0] < rot_rect[-2][1]:\n",
    "                                    rot_rect = (rot_rect[0],(rot_rect[-2][1],rot_rect[-2][0]),rot_rect[-1]+90)\n",
    "                                # make sure that no angle is above 90 or below -90\n",
    "                                if rot_rect[-1] > 90:\n",
    "                                    rot_rect = (rot_rect[0],rot_rect[1],rot_rect[-1]-180)\n",
    "                                if rot_rect[-1] < -90:\n",
    "                                    rot_rect = (rot_rect[0],rot_rect[1],rot_rect[-1]+180)\n",
    "                                rect = cv.boundingRect(np.float32(annotation['points']))\n",
    "                                P1x = str(rect[0])\n",
    "                                P1y = str(rect[1])\n",
    "                                P2x = str(rect[0] + rect[2])\n",
    "                                P2y = str(rect[1] + rect[3])\n",
    "                                class_name = annotation['label']\n",
    "                                writer.writerow([path + image_name, P1x, P1y, P2x, P2y, class_name])\n",
    "                    else:\n",
    "                        writer.writerow([path + image_name, ',,,,,'])\n",
    "       "
   ]
  },
  {
   "cell_type": "code",
   "execution_count": null,
   "metadata": {},
   "outputs": [],
   "source": []
  }
 ],
 "metadata": {
  "kernelspec": {
   "display_name": "Python 3",
   "language": "python",
   "name": "python3"
  },
  "language_info": {
   "codemirror_mode": {
    "name": "ipython",
    "version": 3
   },
   "file_extension": ".py",
   "mimetype": "text/x-python",
   "name": "python",
   "nbconvert_exporter": "python",
   "pygments_lexer": "ipython3",
   "version": "3.7.6"
  }
 },
 "nbformat": 4,
 "nbformat_minor": 4
}
