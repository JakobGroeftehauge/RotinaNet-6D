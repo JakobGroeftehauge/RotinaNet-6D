{
 "cells": [
  {
   "cell_type": "markdown",
   "metadata": {
    "colab_type": "text",
    "id": "_a1udXHWEo88"
   },
   "source": [
    "# Train Network\n",
    "\n",
    "### Setup Environment"
   ]
  },
  {
   "cell_type": "code",
   "execution_count": null,
   "metadata": {
    "colab": {
     "base_uri": "https://localhost:8080/",
     "height": 332
    },
    "colab_type": "code",
    "executionInfo": {
     "elapsed": 9206,
     "status": "ok",
     "timestamp": 1594662642701,
     "user": {
      "displayName": "Jakob Grøftehauge",
      "photoUrl": "",
      "userId": "12153369813832289083"
     },
     "user_tz": -120
    },
    "id": "YitQMVtExtqW",
    "outputId": "6aeb9bc9-b58c-4294-b7b0-72608e4d922d"
   },
   "outputs": [],
   "source": [
    "!git clone https://github.com/JakobGroeftehauge/RotinaNet-6D.git\n",
    "!wget \"https://github.com/fizyr/keras-retinanet/releases/download/0.5.1/resnet50_coco_best_v2.1.0.h5\""
   ]
  },
  {
   "cell_type": "code",
   "execution_count": null,
   "metadata": {
    "colab": {
     "base_uri": "https://localhost:8080/",
     "height": 35
    },
    "colab_type": "code",
    "executionInfo": {
     "elapsed": 9193,
     "status": "ok",
     "timestamp": 1594662642705,
     "user": {
      "displayName": "Jakob Grøftehauge",
      "photoUrl": "",
      "userId": "12153369813832289083"
     },
     "user_tz": -120
    },
    "id": "0KNCsLOx0Yi0",
    "outputId": "9fdf21cf-698c-4fca-c90f-3c436f8d62b2"
   },
   "outputs": [],
   "source": [
    "# Navigate to RotinaNet-6D folder\n",
    "%cd 'RotinaNet-6D'"
   ]
  },
  {
   "cell_type": "code",
   "execution_count": null,
   "metadata": {
    "colab": {
     "base_uri": "https://localhost:8080/",
     "height": 1000
    },
    "colab_type": "code",
    "executionInfo": {
     "elapsed": 59919,
     "status": "ok",
     "timestamp": 1594662693447,
     "user": {
      "displayName": "Jakob Grøftehauge",
      "photoUrl": "",
      "userId": "12153369813832289083"
     },
     "user_tz": -120
    },
    "id": "PeEhDpaFCEy8",
    "outputId": "df2771f1-e0e5-4c7d-d98c-a15c5bdb370e"
   },
   "outputs": [],
   "source": [
    "#Run twice if warning appears\n",
    "!pip install cython\n",
    "!pip install keras-resnet==0.1.0\n",
    "!pip install git+https://github.com/cocodataset/cocoapi.git#subdirectory=PythonAPI\n",
    "!pip install h5py\n",
    "!pip install keras\n",
    "!pip install matplotlib\n",
    "!pip install numpy>=1.14\n",
    "!pip install opencv-python>=3.3.0\n",
    "!pip install pillow\n",
    "!pip install progressbar2\n",
    "!pip install tensorflow\n",
    "\n",
    "!python setup.py build_ext --inplace"
   ]
  },
  {
   "cell_type": "markdown",
   "metadata": {},
   "source": [
    "## Train"
   ]
  },
  {
   "cell_type": "code",
   "execution_count": null,
   "metadata": {
    "colab": {
     "base_uri": "https://localhost:8080/",
     "height": 1000
    },
    "colab_type": "code",
    "executionInfo": {
     "elapsed": 1056988,
     "status": "ok",
     "timestamp": 1594663690535,
     "user": {
      "displayName": "Jakob Grøftehauge",
      "photoUrl": "",
      "userId": "12153369813832289083"
     },
     "user_tz": -120
    },
    "id": "QubmywvCpAJ5",
    "outputId": "eed70449-b337-4cdc-cc19-5ae2da09982a"
   },
   "outputs": [],
   "source": [
    "import datetime, os\n",
    "log = 'logs/' + datetime.datetime.now().strftime(\"%Y%m%d-%H%M%S\")\n",
    "# Investigate pointer error - Try to rerun cell if it appears\n",
    "!python keras_retinanet/bin/train.py --steps 79 --epochs 20 --batch-size 2 --weights \"../resnet50_coco_best_v2.1.0.h5\" csv \"data generation/train_data.csv\" \\\n",
    "--tensorboard-dir {log} \\ \n",
    "\"data generation/classes.csv\""
   ]
  },
  {
   "cell_type": "markdown",
   "metadata": {},
   "source": [
    "## Tensorboard"
   ]
  },
  {
   "cell_type": "code",
   "execution_count": null,
   "metadata": {},
   "outputs": [],
   "source": [
    "%load_ext tensorboard\n",
    "%tensorboard --logdir {log}"
   ]
  },
  {
   "cell_type": "markdown",
   "metadata": {},
   "source": [
    "## Evaluate"
   ]
  },
  {
   "cell_type": "code",
   "execution_count": null,
   "metadata": {
    "colab": {
     "base_uri": "https://localhost:8080/",
     "height": 1000
    },
    "colab_type": "code",
    "executionInfo": {
     "elapsed": 218207,
     "status": "ok",
     "timestamp": 1594664924578,
     "user": {
      "displayName": "Jakob Grøftehauge",
      "photoUrl": "",
      "userId": "12153369813832289083"
     },
     "user_tz": -120
    },
    "id": "z3Uq1tapM53y",
    "outputId": "596dc44e-e975-483b-d764-6c66b092ba78",
    "scrolled": true
   },
   "outputs": [],
   "source": [
    "!python \"keras_retinanet/bin/evaluate.py\" --convert-model --save-path \"Results\"  csv \"data generation/val_data_red.csv\" \\\n",
    " \"data generation/classes.csv\" \"snapshots/resnet50_csv_20.h5\""
   ]
  },
  {
   "cell_type": "code",
   "execution_count": null,
   "metadata": {
    "colab": {},
    "colab_type": "code",
    "id": "NRXeAnexa3xP"
   },
   "outputs": [],
   "source": [
    "import cv2\n",
    "import numpy as np\n",
    "print(cv2.__version__)\n",
    "image = cv2.imread('LINEMOD/000001/rgb/000001.png')\n",
    "box = [71, 30, 240, 80]\n",
    "b = np.array(box).astype(int)\n",
    "draw_box(image, b, color=(0,0,255))\n",
    "cv2.imwrite('test.png',image)"
   ]
  },
  {
   "cell_type": "code",
   "execution_count": null,
   "metadata": {},
   "outputs": [],
   "source": [
    "def draw_box(image, box, color, thickness=2):\n",
    "    \"\"\" Draws a box on an image with a given color.\n",
    "\n",
    "    # Arguments\n",
    "        image     : The image to draw on.\n",
    "        box       : A list of 4 elements (x1, y1, x2, y2).\n",
    "        color     : The color of the box.\n",
    "        thickness : The thickness of the lines to draw a box with.\n",
    "    \"\"\"\n",
    "    b = np.array(box).astype(int)\n",
    "    cv2.rectangle(image, (b[0], b[1]), (b[2], b[3]), color, thickness, cv2.LINE_AA)"
   ]
  },
  {
   "cell_type": "code",
   "execution_count": null,
   "metadata": {},
   "outputs": [],
   "source": [
    "!python \"keras_retinanet/bin/drawTest.py\" >> log.log"
   ]
  },
  {
   "cell_type": "code",
   "execution_count": null,
   "metadata": {},
   "outputs": [],
   "source": []
  }
 ],
 "metadata": {
  "accelerator": "GPU",
  "colab": {
   "authorship_tag": "ABX9TyPUW0/shKS4yAXqIvc+RhF1",
   "name": "Train network on Colab.ipynb",
   "provenance": []
  },
  "kernelspec": {
   "display_name": "Python 3",
   "language": "python",
   "name": "python3"
  },
  "language_info": {
   "codemirror_mode": {
    "name": "ipython",
    "version": 3
   },
   "file_extension": ".py",
   "mimetype": "text/x-python",
   "name": "python",
   "nbconvert_exporter": "python",
   "pygments_lexer": "ipython3",
   "version": "3.7.6"
  }
 },
 "nbformat": 4,
 "nbformat_minor": 1
}
